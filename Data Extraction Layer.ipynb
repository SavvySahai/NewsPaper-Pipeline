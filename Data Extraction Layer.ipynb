{
 "cells": [
  {
   "cell_type": "code",
   "execution_count": 57,
   "id": "c4745877",
   "metadata": {
    "scrolled": true
   },
   "outputs": [
    {
     "name": "stdout",
     "output_type": "stream",
     "text": [
      "Requirement already satisfied: pyarrow in c:\\users\\s5417014\\appdata\\local\\anaconda3\\lib\\site-packages (12.0.1)\n",
      "Requirement already satisfied: numpy>=1.16.6 in c:\\users\\s5417014\\appdata\\local\\anaconda3\\lib\\site-packages (from pyarrow) (1.23.5)\n",
      "Collecting fastparquet\n",
      "  Downloading fastparquet-2023.7.0-cp310-cp310-win_amd64.whl (618 kB)\n",
      "     -------------------------------------- 618.3/618.3 kB 4.9 MB/s eta 0:00:00\n",
      "Requirement already satisfied: fsspec in c:\\users\\s5417014\\appdata\\local\\anaconda3\\lib\\site-packages (from fastparquet) (2022.11.0)\n",
      "Requirement already satisfied: packaging in c:\\users\\s5417014\\appdata\\local\\anaconda3\\lib\\site-packages (from fastparquet) (22.0)\n",
      "Requirement already satisfied: pandas>=1.5.0 in c:\\users\\s5417014\\appdata\\local\\anaconda3\\lib\\site-packages (from fastparquet) (1.5.3)\n",
      "Collecting cramjam>=2.3\n",
      "  Downloading cramjam-2.6.2-cp310-none-win_amd64.whl (1.2 MB)\n",
      "     ---------------------------------------- 1.2/1.2 MB 5.3 MB/s eta 0:00:00\n",
      "Requirement already satisfied: numpy>=1.20.3 in c:\\users\\s5417014\\appdata\\local\\anaconda3\\lib\\site-packages (from fastparquet) (1.23.5)\n",
      "Requirement already satisfied: python-dateutil>=2.8.1 in c:\\users\\s5417014\\appdata\\local\\anaconda3\\lib\\site-packages (from pandas>=1.5.0->fastparquet) (2.8.2)\n",
      "Requirement already satisfied: pytz>=2020.1 in c:\\users\\s5417014\\appdata\\local\\anaconda3\\lib\\site-packages (from pandas>=1.5.0->fastparquet) (2022.7)\n",
      "Requirement already satisfied: six>=1.5 in c:\\users\\s5417014\\appdata\\local\\anaconda3\\lib\\site-packages (from python-dateutil>=2.8.1->pandas>=1.5.0->fastparquet) (1.16.0)\n",
      "Installing collected packages: cramjam, fastparquet\n",
      "Successfully installed cramjam-2.6.2 fastparquet-2023.7.0\n"
     ]
    }
   ],
   "source": [
    "import pandas as pd\n",
    "import json\n",
    "import requests\n",
    "import os\n",
    "from base64 import b64decode\n",
    "import datetime\n",
    "from datetime import date\n",
    "import uuid\n",
    "\n",
    "!pip install pyarrow\n",
    "!pip install fastparquet"
   ]
  },
  {
   "cell_type": "code",
   "execution_count": 58,
   "id": "2e3e1fbe",
   "metadata": {},
   "outputs": [
    {
     "name": "stdout",
     "output_type": "stream",
     "text": [
      "\n",
      "INSTALLED VERSIONS\n",
      "------------------\n",
      "commit           : 2e218d10984e9919f0296931d92ea851c6a6faf5\n",
      "python           : 3.10.9.final.0\n",
      "python-bits      : 64\n",
      "OS               : Windows\n",
      "OS-release       : 10\n",
      "Version          : 10.0.19045\n",
      "machine          : AMD64\n",
      "processor        : Intel64 Family 6 Model 78 Stepping 3, GenuineIntel\n",
      "byteorder        : little\n",
      "LC_ALL           : None\n",
      "LANG             : None\n",
      "LOCALE           : English_United States.1252\n",
      "\n",
      "pandas           : 1.5.3\n",
      "numpy            : 1.23.5\n",
      "pytz             : 2022.7\n",
      "dateutil         : 2.8.2\n",
      "setuptools       : 65.6.3\n",
      "pip              : 22.3.1\n",
      "Cython           : None\n",
      "pytest           : 7.1.2\n",
      "hypothesis       : None\n",
      "sphinx           : 5.0.2\n",
      "blosc            : None\n",
      "feather          : None\n",
      "xlsxwriter       : None\n",
      "lxml.etree       : 4.9.1\n",
      "html5lib         : None\n",
      "pymysql          : None\n",
      "psycopg2         : None\n",
      "jinja2           : 3.1.2\n",
      "IPython          : 8.10.0\n",
      "pandas_datareader: None\n",
      "bs4              : 4.11.1\n",
      "bottleneck       : 1.3.5\n",
      "brotli           : \n",
      "fastparquet      : 2023.7.0\n",
      "fsspec           : 2022.11.0\n",
      "gcsfs            : None\n",
      "matplotlib       : 3.7.0\n",
      "numba            : 0.56.4\n",
      "numexpr          : 2.8.4\n",
      "odfpy            : None\n",
      "openpyxl         : 3.0.10\n",
      "pandas_gbq       : None\n",
      "pyarrow          : 12.0.1\n",
      "pyreadstat       : None\n",
      "pyxlsb           : None\n",
      "s3fs             : None\n",
      "scipy            : 1.10.0\n",
      "snappy           : \n",
      "sqlalchemy       : 1.4.39\n",
      "tables           : 3.7.0\n",
      "tabulate         : 0.8.10\n",
      "xarray           : 2022.11.0\n",
      "xlrd             : None\n",
      "xlwt             : None\n",
      "zstandard        : 0.19.0\n",
      "tzdata           : None\n"
     ]
    }
   ],
   "source": [
    "pd.show_versions()"
   ]
  },
  {
   "cell_type": "code",
   "execution_count": 61,
   "id": "ef26079a",
   "metadata": {},
   "outputs": [],
   "source": [
    "# we are going to make a function called mainFunc\n",
    "# this function will be calling the newsAPI\n",
    "# this is the extraction stage\n",
    "def mainFunc():\n",
    "    \n",
    "    apiKey = 'b2ada5537a32400ba24d28fce3729479'\n",
    "    base_url = \"https://newsapi.org/v2/everything?q={}&from={}&to={}&sortBy=popularity&apiKey={}&language=en\"\n",
    "    print(base_url)\n",
    "    \n",
    "    to_day = (date.today())\n",
    "    start_day = str(to_day - datetime.timedelta(days=1))\n",
    "    end_day = str(to_day)\n",
    "    \n",
    "    df = pd.DataFrame(columns=['Title', 'WhenPub', 'URLSource', 'Content', 'Source', 'Author', 'Img'])\n",
    "    to_format = base_url.format('Covid', start_day, end_day, apiKey)\n",
    "    print(to_format)\n",
    "    \n",
    "    to_getit = requests.get(to_format)\n",
    "    saving_as = to_getit.json()\n",
    "    \n",
    "    for i in saving_as[\"articles\"]:\n",
    "        Title = i['title']\n",
    "        WhenPub = i['publishedAt']\n",
    "        trimmed_part = \"None\"\n",
    "        URLSource = i['url']\n",
    "        Source = i['source']\n",
    "        Author = i['author']\n",
    "        Img = i['urlToImage']\n",
    "        partial_content = \"\"\n",
    "        if (str(i['content']) != 'None'):\n",
    "            partial_content = i['content']\n",
    "        if (len(partial_content) >= 200):\n",
    "            partial_content = partial_content[0:199]\n",
    "        if ('.' in partial_content):\n",
    "            trimmed_part = partial_content[:partial_content.rindex('.')]\n",
    "        else:\n",
    "            trimmed_part = partial_content\n",
    "        df = pd.concat([df, pd.DataFrame({'Title': Title, 'WhenPub' : WhenPub, 'URLSource' : URLSource, 'content' : trimmed_part, 'Source': Source, 'Author' : Author, 'Img' : Img})]\n",
    "                       , ignore_index=True)\n",
    "        \n",
    "            \n",
    "        filename = str(uuid.uuid4())\n",
    "        #output_file = \"/home/ubuntu/{}.parquet\".format(filename)\n",
    "        #df1 = df.drop_duplicates()\n",
    "        #df1.to_parquet(output_file)\n",
    "        #return output_file"
   ]
  },
  {
   "cell_type": "code",
   "execution_count": 62,
   "id": "07a8164c",
   "metadata": {},
   "outputs": [
    {
     "name": "stdout",
     "output_type": "stream",
     "text": [
      "https://newsapi.org/v2/everything?q={}&from={}&to={}&sortBy=popularity&apiKey={}&language=en\n",
      "https://newsapi.org/v2/everything?q=Covid&from=2023-07-04&to=2023-07-05&sortBy=popularity&apiKey=b2ada5537a32400ba24d28fce3729479&language=en\n",
      "None\n"
     ]
    }
   ],
   "source": [
    "print(mainFunc())"
   ]
  }
 ],
 "metadata": {
  "kernelspec": {
   "display_name": "Python 3 (ipykernel)",
   "language": "python",
   "name": "python3"
  },
  "language_info": {
   "codemirror_mode": {
    "name": "ipython",
    "version": 3
   },
   "file_extension": ".py",
   "mimetype": "text/x-python",
   "name": "python",
   "nbconvert_exporter": "python",
   "pygments_lexer": "ipython3",
   "version": "3.10.9"
  }
 },
 "nbformat": 4,
 "nbformat_minor": 5
}
